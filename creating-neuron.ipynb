{
 "cells": [
  {
   "cell_type": "code",
   "execution_count": 1,
   "id": "ffbe90b7",
   "metadata": {
    "_cell_guid": "b1076dfc-b9ad-4769-8c92-a6c4dae69d19",
    "_uuid": "8f2839f25d086af736a60e9eeb907d3b93b6e0e5",
    "execution": {
     "iopub.execute_input": "2024-02-11T16:46:10.481833Z",
     "iopub.status.busy": "2024-02-11T16:46:10.481506Z",
     "iopub.status.idle": "2024-02-11T16:46:11.300890Z",
     "shell.execute_reply": "2024-02-11T16:46:11.299456Z"
    },
    "papermill": {
     "duration": 0.828996,
     "end_time": "2024-02-11T16:46:11.303766",
     "exception": false,
     "start_time": "2024-02-11T16:46:10.474770",
     "status": "completed"
    },
    "tags": []
   },
   "outputs": [],
   "source": [
    "# This Python 3 environment comes with many helpful analytics libraries installed\n",
    "# It is defined by the kaggle/python Docker image: https://github.com/kaggle/docker-python\n",
    "# For example, here's several helpful packages to load\n",
    "\n",
    "import numpy as np # linear algebra\n",
    "import pandas as pd # data processing, CSV file I/O (e.g. pd.read_csv)\n",
    "\n",
    "# Input data files are available in the read-only \"../input/\" directory\n",
    "# For example, running this (by clicking run or pressing Shift+Enter) will list all files under the input directory\n",
    "\n",
    "import os\n",
    "for dirname, _, filenames in os.walk('/kaggle/input'):\n",
    "    for filename in filenames:\n",
    "        print(os.path.join(dirname, filename))\n",
    "\n",
    "# You can write up to 20GB to the current directory (/kaggle/working/) that gets preserved as output when you create a version using \"Save & Run All\" \n",
    "# You can also write temporary files to /kaggle/temp/, but they won't be saved outside of the current session"
   ]
  },
  {
   "cell_type": "code",
   "execution_count": 2,
   "id": "584a1db1",
   "metadata": {
    "execution": {
     "iopub.execute_input": "2024-02-11T16:46:11.315314Z",
     "iopub.status.busy": "2024-02-11T16:46:11.314710Z",
     "iopub.status.idle": "2024-02-11T16:46:11.321532Z",
     "shell.execute_reply": "2024-02-11T16:46:11.320478Z"
    },
    "papermill": {
     "duration": 0.014476,
     "end_time": "2024-02-11T16:46:11.323369",
     "exception": false,
     "start_time": "2024-02-11T16:46:11.308893",
     "status": "completed"
    },
    "tags": []
   },
   "outputs": [
    {
     "name": "stdout",
     "output_type": "stream",
     "text": [
      "Python: 3.10.13 | packaged by conda-forge | (main, Dec 23 2023, 15:36:39) [GCC 12.3.0]\n",
      "Numpy: 1.26.3\n",
      "Matplotlib: 3.7.4\n"
     ]
    }
   ],
   "source": [
    "import sys\n",
    "import numpy as np\n",
    "import matplotlib\n",
    "\n",
    "print(\"Python:\",sys.version)\n",
    "print(\"Numpy:\",np.__version__)\n",
    "print(\"Matplotlib:\",matplotlib.__version__)"
   ]
  },
  {
   "cell_type": "code",
   "execution_count": 3,
   "id": "4bb965af",
   "metadata": {
    "execution": {
     "iopub.execute_input": "2024-02-11T16:46:11.336649Z",
     "iopub.status.busy": "2024-02-11T16:46:11.335625Z",
     "iopub.status.idle": "2024-02-11T16:46:11.343246Z",
     "shell.execute_reply": "2024-02-11T16:46:11.342003Z"
    },
    "papermill": {
     "duration": 0.015992,
     "end_time": "2024-02-11T16:46:11.345286",
     "exception": false,
     "start_time": "2024-02-11T16:46:11.329294",
     "status": "completed"
    },
    "tags": []
   },
   "outputs": [
    {
     "name": "stdout",
     "output_type": "stream",
     "text": [
      "35.7\n"
     ]
    }
   ],
   "source": [
    "inputs=[1.2,5.1,2.1]\n",
    "weights=[3.1,2.1,8.7]\n",
    "bias=3\n",
    "\n",
    "\n",
    "\n",
    "output=inputs[0]*weights[0]+inputs[1]*weights[1]+inputs[2]*weights[2]+bias\n",
    "print(output)"
   ]
  },
  {
   "cell_type": "code",
   "execution_count": null,
   "id": "e2936f68",
   "metadata": {
    "papermill": {
     "duration": 0.003708,
     "end_time": "2024-02-11T16:46:11.353162",
     "exception": false,
     "start_time": "2024-02-11T16:46:11.349454",
     "status": "completed"
    },
    "tags": []
   },
   "outputs": [],
   "source": []
  },
  {
   "cell_type": "code",
   "execution_count": null,
   "id": "02322ba9",
   "metadata": {
    "papermill": {
     "duration": 0.003999,
     "end_time": "2024-02-11T16:46:11.361347",
     "exception": false,
     "start_time": "2024-02-11T16:46:11.357348",
     "status": "completed"
    },
    "tags": []
   },
   "outputs": [],
   "source": []
  },
  {
   "cell_type": "code",
   "execution_count": null,
   "id": "979818cd",
   "metadata": {
    "papermill": {
     "duration": 0.003768,
     "end_time": "2024-02-11T16:46:11.369242",
     "exception": false,
     "start_time": "2024-02-11T16:46:11.365474",
     "status": "completed"
    },
    "tags": []
   },
   "outputs": [],
   "source": []
  },
  {
   "cell_type": "code",
   "execution_count": null,
   "id": "db9de3fe",
   "metadata": {
    "papermill": {
     "duration": 0.004109,
     "end_time": "2024-02-11T16:46:11.377388",
     "exception": false,
     "start_time": "2024-02-11T16:46:11.373279",
     "status": "completed"
    },
    "tags": []
   },
   "outputs": [],
   "source": []
  },
  {
   "cell_type": "code",
   "execution_count": null,
   "id": "8037b43d",
   "metadata": {
    "papermill": {
     "duration": 0.003787,
     "end_time": "2024-02-11T16:46:11.385550",
     "exception": false,
     "start_time": "2024-02-11T16:46:11.381763",
     "status": "completed"
    },
    "tags": []
   },
   "outputs": [],
   "source": []
  },
  {
   "cell_type": "code",
   "execution_count": null,
   "id": "afe6faa4",
   "metadata": {
    "papermill": {
     "duration": 0.003898,
     "end_time": "2024-02-11T16:46:11.393484",
     "exception": false,
     "start_time": "2024-02-11T16:46:11.389586",
     "status": "completed"
    },
    "tags": []
   },
   "outputs": [],
   "source": []
  },
  {
   "cell_type": "code",
   "execution_count": null,
   "id": "058aa9fc",
   "metadata": {
    "papermill": {
     "duration": 0.003955,
     "end_time": "2024-02-11T16:46:11.401613",
     "exception": false,
     "start_time": "2024-02-11T16:46:11.397658",
     "status": "completed"
    },
    "tags": []
   },
   "outputs": [],
   "source": []
  },
  {
   "cell_type": "code",
   "execution_count": null,
   "id": "15278367",
   "metadata": {
    "papermill": {
     "duration": 0.003926,
     "end_time": "2024-02-11T16:46:11.409752",
     "exception": false,
     "start_time": "2024-02-11T16:46:11.405826",
     "status": "completed"
    },
    "tags": []
   },
   "outputs": [],
   "source": []
  },
  {
   "cell_type": "code",
   "execution_count": null,
   "id": "0872edca",
   "metadata": {
    "papermill": {
     "duration": 0.003936,
     "end_time": "2024-02-11T16:46:11.417887",
     "exception": false,
     "start_time": "2024-02-11T16:46:11.413951",
     "status": "completed"
    },
    "tags": []
   },
   "outputs": [],
   "source": []
  },
  {
   "cell_type": "code",
   "execution_count": null,
   "id": "204b8c4d",
   "metadata": {
    "papermill": {
     "duration": 0.003927,
     "end_time": "2024-02-11T16:46:11.426017",
     "exception": false,
     "start_time": "2024-02-11T16:46:11.422090",
     "status": "completed"
    },
    "tags": []
   },
   "outputs": [],
   "source": []
  },
  {
   "cell_type": "code",
   "execution_count": null,
   "id": "869f732d",
   "metadata": {
    "papermill": {
     "duration": 0.003761,
     "end_time": "2024-02-11T16:46:11.433921",
     "exception": false,
     "start_time": "2024-02-11T16:46:11.430160",
     "status": "completed"
    },
    "tags": []
   },
   "outputs": [],
   "source": []
  },
  {
   "cell_type": "code",
   "execution_count": null,
   "id": "e4be951b",
   "metadata": {
    "papermill": {
     "duration": 0.005049,
     "end_time": "2024-02-11T16:46:11.443247",
     "exception": false,
     "start_time": "2024-02-11T16:46:11.438198",
     "status": "completed"
    },
    "tags": []
   },
   "outputs": [],
   "source": []
  },
  {
   "cell_type": "code",
   "execution_count": null,
   "id": "2a3fcc7a",
   "metadata": {
    "papermill": {
     "duration": 0.005173,
     "end_time": "2024-02-11T16:46:11.452901",
     "exception": false,
     "start_time": "2024-02-11T16:46:11.447728",
     "status": "completed"
    },
    "tags": []
   },
   "outputs": [],
   "source": []
  },
  {
   "cell_type": "code",
   "execution_count": null,
   "id": "15acbefd",
   "metadata": {
    "papermill": {
     "duration": 0.003885,
     "end_time": "2024-02-11T16:46:11.462009",
     "exception": false,
     "start_time": "2024-02-11T16:46:11.458124",
     "status": "completed"
    },
    "tags": []
   },
   "outputs": [],
   "source": []
  },
  {
   "cell_type": "code",
   "execution_count": null,
   "id": "3ce29542",
   "metadata": {
    "papermill": {
     "duration": 0.00355,
     "end_time": "2024-02-11T16:46:11.469600",
     "exception": false,
     "start_time": "2024-02-11T16:46:11.466050",
     "status": "completed"
    },
    "tags": []
   },
   "outputs": [],
   "source": []
  },
  {
   "cell_type": "code",
   "execution_count": null,
   "id": "e5a29246",
   "metadata": {
    "papermill": {
     "duration": 0.003679,
     "end_time": "2024-02-11T16:46:11.477069",
     "exception": false,
     "start_time": "2024-02-11T16:46:11.473390",
     "status": "completed"
    },
    "tags": []
   },
   "outputs": [],
   "source": []
  },
  {
   "cell_type": "code",
   "execution_count": null,
   "id": "252f4336",
   "metadata": {
    "papermill": {
     "duration": 0.003484,
     "end_time": "2024-02-11T16:46:11.484295",
     "exception": false,
     "start_time": "2024-02-11T16:46:11.480811",
     "status": "completed"
    },
    "tags": []
   },
   "outputs": [],
   "source": []
  },
  {
   "cell_type": "code",
   "execution_count": null,
   "id": "35e35489",
   "metadata": {
    "papermill": {
     "duration": 0.003594,
     "end_time": "2024-02-11T16:46:11.491582",
     "exception": false,
     "start_time": "2024-02-11T16:46:11.487988",
     "status": "completed"
    },
    "tags": []
   },
   "outputs": [],
   "source": []
  }
 ],
 "metadata": {
  "kaggle": {
   "accelerator": "none",
   "dataSources": [],
   "dockerImageVersionId": 30646,
   "isGpuEnabled": false,
   "isInternetEnabled": true,
   "language": "python",
   "sourceType": "notebook"
  },
  "kernelspec": {
   "display_name": "Python 3",
   "language": "python",
   "name": "python3"
  },
  "language_info": {
   "codemirror_mode": {
    "name": "ipython",
    "version": 3
   },
   "file_extension": ".py",
   "mimetype": "text/x-python",
   "name": "python",
   "nbconvert_exporter": "python",
   "pygments_lexer": "ipython3",
   "version": "3.10.13"
  },
  "papermill": {
   "default_parameters": {},
   "duration": 3.720055,
   "end_time": "2024-02-11T16:46:11.915169",
   "environment_variables": {},
   "exception": null,
   "input_path": "__notebook__.ipynb",
   "output_path": "__notebook__.ipynb",
   "parameters": {},
   "start_time": "2024-02-11T16:46:08.195114",
   "version": "2.5.0"
  }
 },
 "nbformat": 4,
 "nbformat_minor": 5
}
